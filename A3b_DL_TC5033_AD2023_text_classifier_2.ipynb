{
  "cells": [
    {
      "cell_type": "markdown",
      "id": "940c6dbc",
      "metadata": {
        "id": "940c6dbc"
      },
      "source": [
        "## TC 5033\n",
        "### Word Embeddings\n",
        "\n",
        "<br>\n",
        "\n",
        "#### Activity 3b: Text Classification using GRUs and AG_NEWS dataset in PyTorch\n",
        "<br>\n",
        "\n",
        "- Objective:\n",
        "    - Understand the basics of Recurrent Neural Networks (RNNs) and their application in text classification.\n",
        "    - Learn how to handle a real-world text dataset, AG_NEWS, in PyTorch.\n",
        "    - Gain hands-on experience in defining, training, and evaluating a text classification model in PyTorch.\n",
        "    \n",
        "<br>\n",
        "\n",
        "- Instructions:\n",
        "    - Data Preparation: Starter code will be provided that loads the AG_NEWS dataset and prepares it for training. Do not modify this part. However, you should be sure to understand it, and comment it, the use of markdown cells is suggested.\n",
        "\n",
        "    - Model Setup: A skeleton code for the RNN model class will be provided. Complete this class and use it to instantiate your model.\n",
        "\n",
        "    - Implementing Accuracy Function: Write a function that takes model predictions and ground truth labels as input and returns the model's accuracy.\n",
        "\n",
        "    - Training Function: Implement a function that performs training on the given model using the AG_NEWS dataset. Your model should achieve an accuracy of at least 80% to get full marks for this part.\n",
        "\n",
        "    - Text Sampling: Write a function that takes a sample text as input and classifies it using your trained model.\n",
        "\n",
        "    - Confusion Matrix: Implement a function to display the confusion matrix for your model on the test data.\n",
        "\n",
        "    - Submission: Submit your completed Jupyter Notebook. Make sure to include a markdown cell at the beginning of the notebook that lists the names of all team members. Teams should consist of 3 to 4 members.\n",
        "    \n",
        "<br>\n",
        "\n",
        "- Evaluation Criteria:\n",
        "\n",
        "    - Correct setup of all the required libraries and modules (10%)\n",
        "    - Code Quality (30%): Your code should be well-organized, clearly commented, and easy to follow. Use also markdown cells for clarity. Comments should be given for all the provided code, this will help you understand its functionality.\n",
        "    \n",
        "   - Functionality (60%):\n",
        "        - All the functions should execute without errors and provide the expected outputs.\n",
        "        - RNN model class (20%)\n",
        "        - Accuracy fucntion (10%)\n",
        "        - Training function (10%)\n",
        "        - Sampling function (10%)\n",
        "        - Confucion matrix (10%)\n",
        "\n",
        "        - The model should achieve at least an 80% accuracy on the AG_NEWS test set for full marks in this criterion.\n"
      ]
    },
    {
      "cell_type": "markdown",
      "id": "4de318da",
      "metadata": {
        "id": "4de318da"
      },
      "source": [
        "Dataset\n",
        "\n",
        "https://pytorch.org/text/stable/datasets.html#text-classification\n",
        "\n",
        "https://paperswithcode.com/dataset/ag-news\n"
      ]
    },
    {
      "cell_type": "markdown",
      "id": "4a9801f9",
      "metadata": {
        "id": "4a9801f9"
      },
      "source": [
        "### Import libraries"
      ]
    },
    {
      "cell_type": "code",
      "execution_count": 1,
      "id": "54394f53",
      "metadata": {
        "colab": {
          "base_uri": "https://localhost:8080/"
        },
        "id": "54394f53",
        "outputId": "ef83a2e0-cda5-4819-cba7-70896c9a4d06"
      },
      "outputs": [
        {
          "output_type": "stream",
          "name": "stdout",
          "text": [
            "Collecting scikit-plot\n",
            "  Downloading scikit_plot-0.3.7-py3-none-any.whl (33 kB)\n",
            "Requirement already satisfied: matplotlib>=1.4.0 in /usr/local/lib/python3.10/dist-packages (from scikit-plot) (3.7.1)\n",
            "Requirement already satisfied: scikit-learn>=0.18 in /usr/local/lib/python3.10/dist-packages (from scikit-plot) (1.2.2)\n",
            "Requirement already satisfied: scipy>=0.9 in /usr/local/lib/python3.10/dist-packages (from scikit-plot) (1.11.3)\n",
            "Requirement already satisfied: joblib>=0.10 in /usr/local/lib/python3.10/dist-packages (from scikit-plot) (1.3.2)\n",
            "Requirement already satisfied: contourpy>=1.0.1 in /usr/local/lib/python3.10/dist-packages (from matplotlib>=1.4.0->scikit-plot) (1.1.1)\n",
            "Requirement already satisfied: cycler>=0.10 in /usr/local/lib/python3.10/dist-packages (from matplotlib>=1.4.0->scikit-plot) (0.12.1)\n",
            "Requirement already satisfied: fonttools>=4.22.0 in /usr/local/lib/python3.10/dist-packages (from matplotlib>=1.4.0->scikit-plot) (4.43.1)\n",
            "Requirement already satisfied: kiwisolver>=1.0.1 in /usr/local/lib/python3.10/dist-packages (from matplotlib>=1.4.0->scikit-plot) (1.4.5)\n",
            "Requirement already satisfied: numpy>=1.20 in /usr/local/lib/python3.10/dist-packages (from matplotlib>=1.4.0->scikit-plot) (1.23.5)\n",
            "Requirement already satisfied: packaging>=20.0 in /usr/local/lib/python3.10/dist-packages (from matplotlib>=1.4.0->scikit-plot) (23.2)\n",
            "Requirement already satisfied: pillow>=6.2.0 in /usr/local/lib/python3.10/dist-packages (from matplotlib>=1.4.0->scikit-plot) (9.4.0)\n",
            "Requirement already satisfied: pyparsing>=2.3.1 in /usr/local/lib/python3.10/dist-packages (from matplotlib>=1.4.0->scikit-plot) (3.1.1)\n",
            "Requirement already satisfied: python-dateutil>=2.7 in /usr/local/lib/python3.10/dist-packages (from matplotlib>=1.4.0->scikit-plot) (2.8.2)\n",
            "Requirement already satisfied: threadpoolctl>=2.0.0 in /usr/local/lib/python3.10/dist-packages (from scikit-learn>=0.18->scikit-plot) (3.2.0)\n",
            "Requirement already satisfied: six>=1.5 in /usr/local/lib/python3.10/dist-packages (from python-dateutil>=2.7->matplotlib>=1.4.0->scikit-plot) (1.16.0)\n",
            "Installing collected packages: scikit-plot\n",
            "Successfully installed scikit-plot-0.3.7\n",
            "Collecting portalocker\n",
            "  Downloading portalocker-2.8.2-py3-none-any.whl (17 kB)\n",
            "Installing collected packages: portalocker\n",
            "Successfully installed portalocker-2.8.2\n"
          ]
        }
      ],
      "source": [
        "!pip install scikit-plot\n",
        "!pip install portalocker"
      ]
    },
    {
      "cell_type": "code",
      "execution_count": 2,
      "id": "878b524f",
      "metadata": {
        "id": "878b524f"
      },
      "outputs": [],
      "source": [
        "# The following libraries are required for running the given code\n",
        "# Please feel free to add any libraries you consider adecuate to complete the assingment.\n",
        "import numpy as np\n",
        "#PyTorch libraries\n",
        "import torch\n",
        "from torchtext.datasets import AG_NEWS\n",
        "# Dataloader library\n",
        "from torch.utils.data import DataLoader\n",
        "from torch.utils.data.dataset import random_split\n",
        "# Libraries to prepare the data\n",
        "from torchtext.data.utils import get_tokenizer\n",
        "from torchtext.vocab import build_vocab_from_iterator\n",
        "from torchtext.data.functional import to_map_style_dataset\n",
        "# neural layers\n",
        "from torch import nn\n",
        "from torch.nn import functional as F\n",
        "\n",
        "# These libraries are suggested to plot confusion matrix\n",
        "# you may use others\n",
        "import scikitplot as skplt\n",
        "import gc\n",
        "import matplotlib.pyplot as plt"
      ]
    },
    {
      "cell_type": "code",
      "execution_count": 3,
      "id": "3bab55f3",
      "metadata": {
        "colab": {
          "base_uri": "https://localhost:8080/"
        },
        "id": "3bab55f3",
        "outputId": "730fb33f-fa7e-415d-a4f3-15808c07d7f6"
      },
      "outputs": [
        {
          "output_type": "stream",
          "name": "stdout",
          "text": [
            "cpu\n"
          ]
        }
      ],
      "source": [
        "# Use GPU if available\n",
        "device = torch.device(\"cuda\" if torch.cuda.is_available() else \"cpu\")\n",
        "print(device)"
      ]
    },
    {
      "cell_type": "markdown",
      "id": "3d38956d",
      "metadata": {
        "id": "3d38956d"
      },
      "source": [
        "### Get the train and the test datasets and dataloaders"
      ]
    },
    {
      "cell_type": "markdown",
      "id": "e9c6b784",
      "metadata": {
        "id": "e9c6b784"
      },
      "source": [
        "Classes:\n",
        "\n",
        "* 1 - World\n",
        "\n",
        "* 2 - Sports\n",
        "\n",
        "* 3 - Business\n",
        "\n",
        "* 4 - Sci/Tech\n",
        "\n",
        "We will convert them to:\n",
        "\n",
        "* 0 - World\n",
        "\n",
        "* 1 - Sports\n",
        "\n",
        "* 2 - Business\n",
        "\n",
        "* 3 - Sci/Tech"
      ]
    },
    {
      "cell_type": "code",
      "execution_count": 4,
      "id": "49fbed19",
      "metadata": {
        "id": "49fbed19"
      },
      "outputs": [],
      "source": [
        "train_dataset, test_dataset = AG_NEWS()\n",
        "train_dataset, test_dataset = to_map_style_dataset(train_dataset), to_map_style_dataset(test_dataset)"
      ]
    },
    {
      "cell_type": "code",
      "execution_count": 5,
      "id": "9c372eb9",
      "metadata": {
        "id": "9c372eb9"
      },
      "outputs": [],
      "source": [
        "# Get the tokeniser\n",
        "# tokeniser object\n",
        "tokeniser = get_tokenizer('basic_english')\n",
        "\n",
        "def yield_tokens(data):\n",
        "    for _, text in data:\n",
        "        yield tokeniser(text)"
      ]
    },
    {
      "cell_type": "code",
      "execution_count": 6,
      "id": "794d0375",
      "metadata": {
        "id": "794d0375"
      },
      "outputs": [],
      "source": [
        "# Build the vocabulary\n",
        "vocab = build_vocab_from_iterator(yield_tokens(train_dataset), specials=[\"<unk>\"])\n",
        "#set unknown token at position 0\n",
        "vocab.set_default_index(vocab[\"<unk>\"])"
      ]
    },
    {
      "cell_type": "code",
      "execution_count": 7,
      "id": "b48268d4",
      "metadata": {
        "colab": {
          "base_uri": "https://localhost:8080/"
        },
        "id": "b48268d4",
        "outputId": "e23333b0-9fc7-4dee-b042-08e43cb97ca7"
      },
      "outputs": [
        {
          "output_type": "stream",
          "name": "stdout",
          "text": [
            "['welcome', 'to', 'te3007'] [3314, 4, 0]\n"
          ]
        }
      ],
      "source": [
        "#test tokens\n",
        "tokens = tokeniser('Welcome to TE3007')\n",
        "print(tokens, vocab(tokens))"
      ]
    },
    {
      "cell_type": "code",
      "execution_count": 8,
      "id": "c8c8f6a6",
      "metadata": {
        "id": "c8c8f6a6"
      },
      "outputs": [],
      "source": [
        "NUM_TRAIN = int(len(train_dataset)*0.9)\n",
        "NUM_VAL = len(train_dataset) - NUM_TRAIN"
      ]
    },
    {
      "cell_type": "code",
      "execution_count": 9,
      "id": "8290895e",
      "metadata": {
        "id": "8290895e"
      },
      "outputs": [],
      "source": [
        "train_dataset, val_dataset = random_split(train_dataset, [NUM_TRAIN, NUM_VAL])"
      ]
    },
    {
      "cell_type": "code",
      "execution_count": 10,
      "id": "cbc75b54",
      "metadata": {
        "colab": {
          "base_uri": "https://localhost:8080/"
        },
        "id": "cbc75b54",
        "outputId": "a9c181fd-e982-4337-81b7-3666368f80a0"
      },
      "outputs": [
        {
          "output_type": "stream",
          "name": "stdout",
          "text": [
            "108000 12000 7600\n"
          ]
        }
      ],
      "source": [
        "print(len(train_dataset), len(val_dataset), len(test_dataset))"
      ]
    },
    {
      "cell_type": "code",
      "execution_count": 11,
      "id": "ffdbf077",
      "metadata": {
        "id": "ffdbf077"
      },
      "outputs": [],
      "source": [
        "# function passed to the DataLoader to process a batch of data as indicated\n",
        "def collate_batch(batch):\n",
        "    # Get label and text\n",
        "    y, x = list(zip(*batch))\n",
        "\n",
        "    # Create list with indices from tokeniser\n",
        "    x = [vocab(tokeniser(text)) for text in x]\n",
        "    x = [t + ([0]*(max_tokens - len(t))) if len(t) < max_tokens else t[:max_tokens] for t in x]\n",
        "\n",
        "    # Prepare the labels, by subtracting 1 to get them in the range 0-3\n",
        "    return torch.tensor(x, dtype=torch.int32), torch.tensor(y) - 1"
      ]
    },
    {
      "cell_type": "code",
      "execution_count": 12,
      "id": "5eb459c7",
      "metadata": {
        "id": "5eb459c7"
      },
      "outputs": [],
      "source": [
        "labels =  [\"World\", \"Sports\", \"Business\", \"Sci/Tech\"]\n",
        "max_tokens = 50\n",
        "BATCH_SIZE = 256"
      ]
    },
    {
      "cell_type": "code",
      "execution_count": 13,
      "id": "0a55e6ee",
      "metadata": {
        "id": "0a55e6ee"
      },
      "outputs": [],
      "source": [
        "train_loader = DataLoader(train_dataset, batch_size=BATCH_SIZE, collate_fn=collate_batch, shuffle = True)\n",
        "val_loader = DataLoader(val_dataset, batch_size=BATCH_SIZE, collate_fn=collate_batch, shuffle = True)\n",
        "test_loader = DataLoader(test_dataset, batch_size=BATCH_SIZE, collate_fn=collate_batch, shuffle = True)"
      ]
    },
    {
      "cell_type": "code",
      "source": [
        "for X, Y in train_loader:\n",
        "    print(X.shape, Y.shape)\n",
        "    break"
      ],
      "metadata": {
        "colab": {
          "base_uri": "https://localhost:8080/"
        },
        "id": "UH8eQxMoy0Je",
        "outputId": "0d71aaa6-8ea7-4a45-84f1-143babfe2b57"
      },
      "id": "UH8eQxMoy0Je",
      "execution_count": 14,
      "outputs": [
        {
          "output_type": "stream",
          "name": "stdout",
          "text": [
            "torch.Size([256, 50]) torch.Size([256])\n"
          ]
        }
      ]
    },
    {
      "cell_type": "markdown",
      "id": "47b98898",
      "metadata": {
        "id": "47b98898"
      },
      "source": [
        "### Let us build our RNN model"
      ]
    },
    {
      "cell_type": "code",
      "execution_count": 15,
      "id": "50f20793",
      "metadata": {
        "id": "50f20793"
      },
      "outputs": [],
      "source": [
        "embed_size = 50\n",
        "hidden = 50\n",
        "layers = 1\n",
        "num_classes = len(labels)"
      ]
    },
    {
      "cell_type": "code",
      "source": [
        "len(vocab)"
      ],
      "metadata": {
        "colab": {
          "base_uri": "https://localhost:8080/"
        },
        "id": "UPtj-M3nnDyj",
        "outputId": "cf39ad15-31e2-4328-e7ae-5c6a3d441be1"
      },
      "id": "UPtj-M3nnDyj",
      "execution_count": 16,
      "outputs": [
        {
          "output_type": "execute_result",
          "data": {
            "text/plain": [
              "95811"
            ]
          },
          "metadata": {},
          "execution_count": 16
        }
      ]
    },
    {
      "cell_type": "code",
      "execution_count": 17,
      "id": "0f7f5621",
      "metadata": {
        "id": "0f7f5621"
      },
      "outputs": [],
      "source": [
        "class GRU_Model_1(nn.Module):\n",
        "    def __init__(self, embed_size, hidden, layers, num_classes):\n",
        "        super().__init__()\n",
        "        self.embedding_layer = nn.Embedding(num_embeddings=len(vocab),\n",
        "                                            embedding_dim=embed_size)\n",
        "        self.hidden = hidden\n",
        "        self.layers = layers\n",
        "        # Define the GRU layer - use PyTorch nn.GRU(), nn.GRU(), or nn.LSTM()\n",
        "        self.GRU = nn.GRU(embed_size, hidden, layers, batch_first=True)\n",
        "        # Define the output layer - output classifier layer using linear layer\n",
        "        self.fc = nn.Linear(hidden, num_classes)\n",
        "\n",
        "    def forward(self, x):\n",
        "        # Forward pass through the GRU\n",
        "        embeddings = self.embedding_layer(x)\n",
        "        out, h = self.GRU(embeddings, torch.randn(layers, len(x), hidden))\n",
        "        return self.fc(out[:,-1])"
      ]
    },
    {
      "cell_type": "code",
      "source": [
        "GRU_classifier = GRU_Model_1(embed_size, hidden, layers, num_classes)\n",
        "GRU_classifier"
      ],
      "metadata": {
        "colab": {
          "base_uri": "https://localhost:8080/"
        },
        "id": "SDXYyvCm1vGb",
        "outputId": "7b9a90c8-77c5-4c48-8b81-65b34448b974"
      },
      "id": "SDXYyvCm1vGb",
      "execution_count": 18,
      "outputs": [
        {
          "output_type": "execute_result",
          "data": {
            "text/plain": [
              "GRU_Model_1(\n",
              "  (embedding_layer): Embedding(95811, 50)\n",
              "  (GRU): GRU(50, 50, batch_first=True)\n",
              "  (fc): Linear(in_features=50, out_features=4, bias=True)\n",
              ")"
            ]
          },
          "metadata": {},
          "execution_count": 18
        }
      ]
    },
    {
      "cell_type": "code",
      "execution_count": 19,
      "id": "2a42613f",
      "metadata": {
        "code_folding": [],
        "id": "2a42613f"
      },
      "outputs": [],
      "source": [
        "# Accuracy\n",
        "def accuracy(model, loader):\n",
        "    num_correct = 0\n",
        "    num_total = 0\n",
        "    model.eval()\n",
        "    model = model.to(device=device)\n",
        "    with torch.no_grad():\n",
        "        for (xi, yi) in loader:\n",
        "            xi = xi.to(device=device)\n",
        "            yi = yi.to(device=device)\n",
        "            scores = model(xi)\n",
        "            _, pred = scores.max(dim=1)\n",
        "            num_correct += (pred == yi).sum()\n",
        "            num_total += pred.size(0)\n",
        "        return float(num_correct)/num_total"
      ]
    },
    {
      "cell_type": "code",
      "execution_count": 20,
      "id": "5e843e1f",
      "metadata": {
        "code_folding": [],
        "id": "5e843e1f"
      },
      "outputs": [],
      "source": [
        "def train(model, optimiser, epochs):\n",
        "    model = model.to(device=device)\n",
        "    train_cost = 0.\n",
        "    val_cost = 0.\n",
        "\n",
        "    for epoch in range(epochs):\n",
        "      train_correct_num = 0.\n",
        "      train_total = 0.\n",
        "      train_cost_acum = 0.\n",
        "\n",
        "      for x, y in train_loader:\n",
        "        model.train()\n",
        "        x = x.to(device=device)\n",
        "        y = y.to(device=device)\n",
        "        scores = model(x)\n",
        "\n",
        "        cost = F.cross_entropy(input=scores, target=y)\n",
        "        optimiser.zero_grad()\n",
        "        cost.backward()\n",
        "        optimiser.step()\n",
        "\n",
        "      acc = accuracy(model, val_loader)\n",
        "      print(f'Epoch: {epoch}, costo: {cost.item()}, accuracy: {acc},')"
      ]
    },
    {
      "cell_type": "code",
      "execution_count": 24,
      "id": "87775b29",
      "metadata": {
        "id": "87775b29"
      },
      "outputs": [],
      "source": [
        "epochs = 10\n",
        "lr = 0.001\n",
        "# instantiate model\n",
        "GRU_model = GRU_Model_1(embed_size, hidden, layers, num_classes)\n",
        "optimiser = torch.optim.Adam(GRU_model.parameters(), lr=lr)"
      ]
    },
    {
      "cell_type": "code",
      "execution_count": 25,
      "id": "aec12a1b",
      "metadata": {
        "scrolled": true,
        "id": "aec12a1b",
        "colab": {
          "base_uri": "https://localhost:8080/"
        },
        "outputId": "4f540dd6-eac1-4b95-faa4-0825dd19ce96"
      },
      "outputs": [
        {
          "output_type": "stream",
          "name": "stdout",
          "text": [
            "Epoch: 0, costo: 0.5440247058868408, accuracy: 0.7805,\n",
            "Epoch: 1, costo: 0.4324774444103241, accuracy: 0.86075,\n",
            "Epoch: 2, costo: 0.2967015206813812, accuracy: 0.8805,\n",
            "Epoch: 3, costo: 0.28222721815109253, accuracy: 0.8905,\n",
            "Epoch: 4, costo: 0.2454736977815628, accuracy: 0.896,\n",
            "Epoch: 5, costo: 0.21435831487178802, accuracy: 0.89775,\n",
            "Epoch: 6, costo: 0.2059873640537262, accuracy: 0.898,\n",
            "Epoch: 7, costo: 0.22896401584148407, accuracy: 0.9015833333333333,\n",
            "Epoch: 8, costo: 0.1182352751493454, accuracy: 0.8994166666666666,\n",
            "Epoch: 9, costo: 0.057908058166503906, accuracy: 0.8991666666666667,\n"
          ]
        }
      ],
      "source": [
        "train(GRU_model, optimiser=optimiser,  epochs=epochs)"
      ]
    },
    {
      "cell_type": "code",
      "execution_count": 26,
      "id": "7a3ef175",
      "metadata": {
        "id": "7a3ef175",
        "colab": {
          "base_uri": "https://localhost:8080/"
        },
        "outputId": "acd008b3-bb21-431e-e97d-e3dcf38a77e1"
      },
      "outputs": [
        {
          "output_type": "stream",
          "name": "stdout",
          "text": [
            "0.9043\n"
          ]
        }
      ],
      "source": [
        "print(f'{accuracy(GRU_model, test_loader):.4f}')"
      ]
    },
    {
      "cell_type": "code",
      "execution_count": 44,
      "id": "ed30693d",
      "metadata": {
        "id": "ed30693d"
      },
      "outputs": [],
      "source": [
        "def sample_text(model, loader):\n",
        "  # Retrieving text examples from the test dataset\n",
        "  x_test_text, y_test = [], []\n",
        "  for y, x in test_dataset:\n",
        "    x_test_text.append(x)\n",
        "    y_test.append(y-1)\n",
        "  # Selecting one text from test_dataset\n",
        "  idx = np.random.randint(len(x_test_text))\n",
        "  # Create list with indices from tokeniser\n",
        "  x = [vocab(tokeniser(text)) for text in x_test_text[idx:idx+1]]\n",
        "  x = [t + ([0]*(max_tokens - len(t))) if len(t) < max_tokens else t[:max_tokens] for t in x]\n",
        "  # Predicting\n",
        "  preds = GRU_classifier(torch.tensor(x, dtype=torch.int32))\n",
        "  preds = F.softmax(preds, dim=-1)\n",
        "  return print('Prediction:', labels[preds.argmax()], 'Actual:', labels[y_test[idx]])"
      ]
    },
    {
      "cell_type": "code",
      "execution_count": 45,
      "id": "534f0220",
      "metadata": {
        "id": "534f0220",
        "colab": {
          "base_uri": "https://localhost:8080/"
        },
        "outputId": "1e3a44c2-4d7c-40ef-f190-7e24161776ed"
      },
      "outputs": [
        {
          "output_type": "stream",
          "name": "stdout",
          "text": [
            "Prediction: World Actual: World\n"
          ]
        }
      ],
      "source": [
        "sample_text(GRU_model, test_loader)"
      ]
    },
    {
      "cell_type": "code",
      "execution_count": 29,
      "id": "bb38e093",
      "metadata": {
        "id": "bb38e093"
      },
      "outputs": [],
      "source": [
        "def MakePredictions(model, loader):\n",
        "    y_shuffled, y_preds = [], []\n",
        "    for x, y in loader:\n",
        "        preds = model(x)\n",
        "        y_preds.append(preds)\n",
        "        y_shuffled.append(y)\n",
        "    gc.collect()\n",
        "    y_preds, y_shuffled = torch.cat(y_preds), torch.cat(y_shuffled)\n",
        "    return y_shuffled.detach().numpy(), F.softmax(y_preds, dim=-1).argmax(dim=-1).detach().numpy()"
      ]
    },
    {
      "cell_type": "code",
      "source": [
        "y_actual, y_preds = MakePredictions(GRU_model, test_loader)"
      ],
      "metadata": {
        "id": "L6vaBlGy9XOD"
      },
      "id": "L6vaBlGy9XOD",
      "execution_count": 30,
      "outputs": []
    },
    {
      "cell_type": "code",
      "execution_count": 31,
      "id": "e7d73f69",
      "metadata": {
        "id": "e7d73f69",
        "colab": {
          "base_uri": "https://localhost:8080/",
          "height": 474
        },
        "outputId": "bc0265d0-f8dd-4a4c-cb79-31be7ecb0634"
      },
      "outputs": [
        {
          "output_type": "display_data",
          "data": {
            "text/plain": [
              "<Figure size 500x500 with 2 Axes>"
            ],
            "image/png": "[encoded data removed]"
          },
          "metadata": {}
        }
      ],
      "source": [
        "skplt.metrics.plot_confusion_matrix([labels[i] for i in y_actual], [labels[i] for i in y_preds],\n",
        "                                    normalize=True,\n",
        "                                    title=\"Confusion Matrix\",\n",
        "                                    cmap=\"Blues\",\n",
        "                                    hide_zeros=True,\n",
        "                                    figsize=(5,5));\n",
        "plt.xticks(rotation=90);"
      ]
    },
    {
      "cell_type": "code",
      "execution_count": 31,
      "id": "5327e204",
      "metadata": {
        "id": "5327e204"
      },
      "outputs": [],
      "source": []
    }
  ],
  "metadata": {
    "kernelspec": {
      "display_name": "Python 3",
      "name": "python3"
    },
    "language_info": {
      "codemirror_mode": {
        "name": "ipython",
        "version": 3
      },
      "file_extension": ".py",
      "mimetype": "text/x-python",
      "name": "python",
      "nbconvert_exporter": "python",
      "pygments_lexer": "ipython3",
      "version": "3.9.0"
    },
    "varInspector": {
      "cols": {
        "lenName": 16,
        "lenType": 16,
        "lenVar": 40
      },
      "kernels_config": {
        "python": {
          "delete_cmd_postfix": "",
          "delete_cmd_prefix": "del ",
          "library": "var_list.py",
          "varRefreshCmd": "print(var_dic_list())"
        },
        "r": {
          "delete_cmd_postfix": ") ",
          "delete_cmd_prefix": "rm(",
          "library": "var_list.r",
          "varRefreshCmd": "cat(var_dic_list()) "
        }
      },
      "types_to_exclude": [
        "module",
        "function",
        "builtin_function_or_method",
        "instance",
        "_Feature"
      ],
      "window_display": false
    },
    "colab": {
      "provenance": []
    }
  },
  "nbformat": 4,
  "nbformat_minor": 5
}